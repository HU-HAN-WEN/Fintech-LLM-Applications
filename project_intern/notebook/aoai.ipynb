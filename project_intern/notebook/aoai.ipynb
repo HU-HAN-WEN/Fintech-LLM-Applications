{
 "cells": [
  {
   "cell_type": "markdown",
   "metadata": {
    "id": "Dbe6rGQmLOzw"
   },
   "source": [
    "# 安裝openai"
   ]
  },
  {
   "cell_type": "code",
   "execution_count": null,
   "metadata": {
    "id": "D6h9cb_EJRhx"
   },
   "outputs": [],
   "source": [
    "!pip install openai"
   ]
  },
  {
   "cell_type": "markdown",
   "metadata": {
    "id": "heAUY5uPLXA_"
   },
   "source": [
    "# import packages"
   ]
  },
  {
   "cell_type": "code",
   "execution_count": null,
   "metadata": {
    "id": "DR1XU_IFLaK1"
   },
   "outputs": [],
   "source": [
    "from openai import AzureOpenAI"
   ]
  },
  {
   "cell_type": "markdown",
   "metadata": {
    "id": "Hxe0sEDzLcGe"
   },
   "source": [
    "# 載入AOAI"
   ]
  },
  {
   "cell_type": "code",
   "execution_count": null,
   "metadata": {
    "id": "TlwZRSj4Le_1"
   },
   "outputs": [],
   "source": [
    "client = AzureOpenAI(\n",
    "    azure_endpoint = \"endpoint\", # 輸入endpoint\n",
    "    api_key=<api key>,  # 輸入api kay\n",
    "    api_version=\"2023-07-01-preview\", # 輸入api version\n",
    "  )"
   ]
  },
  {
   "cell_type": "markdown",
   "metadata": {
    "id": "KrnWOIyMLwL3"
   },
   "source": [
    "# start to chat"
   ]
  },
  {
   "cell_type": "code",
   "execution_count": null,
   "metadata": {
    "id": "xk83xbP3AXiy"
   },
   "outputs": [],
   "source": [
    "while True:\n",
    "  text = input(\"請輸入：\")\n",
    "\n",
    "  response = client.chat.completions.create(\n",
    "      model=\"gpt-4\", # model name可使用\"gpt-4\" or \"gpt-35-turbo\"\n",
    "      messages=[{\"role\": \"system\", \"content\": \"你是一位很厲害且專業的助理，請用繁體中文回答我的問題\"}, # system 這段可針對不同情境設定，例如要做翻譯，後面的content可改成「我要請你扮演專業英文翻譯的角色，你的任務是將英文精準轉譯為中文。翻譯時，請避免不自然的翻譯腔調，力求翻譯得自然、流暢且符合地道的表達方式。」\n",
    "          {\"role\": \"user\", \"content\": text}],\n",
    "      temperature=0.7,\n",
    "      max_tokens=1024)\n",
    "  print(response.choices[0].message.content)\n",
    "  print('\\n')"
   ]
  },
  {
   "cell_type": "code",
   "execution_count": null,
   "metadata": {
    "id": "Zp-gDFtwKmE8"
   },
   "outputs": [],
   "source": []
  }
 ],
 "metadata": {
  "colab": {
   "provenance": []
  },
  "kernelspec": {
   "display_name": "Python 3",
   "name": "python3"
  }
 },
 "nbformat": 4,
 "nbformat_minor": 0
}
